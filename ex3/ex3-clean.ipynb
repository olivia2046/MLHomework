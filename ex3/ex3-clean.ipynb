{
 "cells": [
  {
   "cell_type": "markdown",
   "metadata": {
    "collapsed": true
   },
   "source": [
    "# Exercise 3 One-vs-All"
   ]
  },
  {
   "cell_type": "code",
   "execution_count": 1,
   "metadata": {
    "collapsed": true
   },
   "outputs": [],
   "source": [
    "## Machine Learning Online Class - Exercise 3 | Part 1: One-vs-all\n",
    "\n",
    "#  Instructions\n",
    "#  ------------\n",
    "#\n",
    "#  This file contains code that helps you get started on the\n",
    "#  linear exercise. You will need to complete the following functions\n",
    "#  in this exericse:\n",
    "#\n",
    "#     lrCostFunction.m (logistic regression cost function)\n",
    "#     oneVsAll.m\n",
    "#     predictOneVsAll.m\n",
    "#     predict.m\n",
    "#\n",
    "#  For this exercise, you will not need to change any code in this file,\n",
    "#  or any other files other than those mentioned above.\n",
    "#\n",
    "import numpy as np\n",
    "import scipy.io as scio # to read the .mat file\n",
    "from scipy import optimize\n",
    "import matplotlib.pyplot as plt\n",
    "import matplotlib\n",
    "%matplotlib inline\n",
    "import sys\n",
    "sys.path.append(r\"..\")\n",
    "\n",
    "\n",
    "## Setup the parameters you will use for this part of the exercise\n",
    "input_layer_size  = 400;  # 20x20 Input Images of Digits\n",
    "num_labels = 10;          # 10 labels, from 1 to 10\n",
    "                          # (note that we have mapped \"0\" to label 10)"
   ]
  },
  {
   "cell_type": "markdown",
   "metadata": {},
   "source": [
    "# 加载和展示数据"
   ]
  },
  {
   "cell_type": "markdown",
   "metadata": {},
   "source": [
    "绘图部分参考https://download.csdn.net/download/csdn_user_gsz/10177712"
   ]
  },
  {
   "cell_type": "code",
   "execution_count": 2,
   "metadata": {
    "collapsed": true
   },
   "outputs": [],
   "source": [
    "def plot_an_image(image):\n",
    "#     \"\"\"\n",
    "#     image : (400,)\n",
    "#     \"\"\"\n",
    "    fig, ax = plt.subplots(figsize=(1, 1))\n",
    "    ax.matshow(image.reshape((20, 20)), cmap=matplotlib.cm.binary)\n",
    "    plt.xticks(np.array([]))  # just get rid of ticks\n",
    "    plt.yticks(np.array([]))\n",
    "#绘图函数"
   ]
  },
  {
   "cell_type": "code",
   "execution_count": 4,
   "metadata": {},
   "outputs": [
    {
     "name": "stdout",
     "output_type": "stream",
     "text": [
      "Loading and Visualizing Data ...\n",
      "\n"
     ]
    }
   ],
   "source": [
    "## =========== Part 1: Loading and Visualizing Data =============\n",
    "#  We start the exercise by first loading and visualizing the dataset.\n",
    "#  You will be working with a dataset that contains handwritten digits.\n",
    "#\n",
    "\n",
    "# Load Training Data\n",
    "print('Loading and Visualizing Data ...\\n')\n",
    "\n",
    "data = scio.loadmat('ex3data1.mat'); # training data stored in arrays X, y\n",
    "X = data['X']; y = data['y']\n",
    "m = len(X)"
   ]
  },
  {
   "cell_type": "code",
   "execution_count": 5,
   "metadata": {},
   "outputs": [
    {
     "data": {
      "image/png": "[encoded data removed]",
      "text/plain": [
       "<matplotlib.figure.Figure at 0x175437fb470>"
      ]
     },
     "metadata": {},
     "output_type": "display_data"
    },
    {
     "name": "stdout",
     "output_type": "stream",
     "text": [
      "this should be [5]\n"
     ]
    }
   ],
   "source": [
    "one_sample = np.random.randint(0, 5000)\n",
    "plot_an_image(X[one_sample, :])\n",
    "plt.show()\n",
    "print('this should be {}'.format(y[one_sample]))"
   ]
  },
  {
   "cell_type": "code",
   "execution_count": 6,
   "metadata": {},
   "outputs": [],
   "source": [
    "def displayData(X, example_width = None):\n",
    "    #DISPLAYDATA Display 2D data in a nice grid\n",
    "    #   [h, display_array] = DISPLAYDATA(X, example_width) displays 2D data\n",
    "    #   stored in X in a nice grid. It returns the figure handle h and the \n",
    "    #   displayed array if requested.\n",
    "\n",
    "    # Set example_width automatically if not passed in\n",
    "    if example_width is None:\n",
    "        example_width = int(np.round(np.sqrt(X.shape[1])))\n",
    "\n",
    "    m, n = X.shape\n",
    "    example_height = int(n / example_width);\n",
    "    display_rows = int(np.floor(np.sqrt(m)))\n",
    "    display_cols = int(np.ceil(m / display_rows))\n",
    "\n",
    "    \"\"\" sample 100 image and show them\n",
    "    assume the image is square\n",
    "\n",
    "    X : (5000, 400)\n",
    "    \"\"\"\n",
    "\n",
    "    # sample 100 image, reshape, reorg it\n",
    "    #sample_idx = np.random.choice(np.arange(X.shape[0]), 100)  # 100*400\n",
    "    #sample_images = X[sample_idx, :]\n",
    "    sample_images = X\n",
    "\n",
    "    fig, ax_array = plt.subplots(nrows=10, ncols=10, sharey=True, sharex=True, figsize=(8, 8))\n",
    "\n",
    "    for r in range(display_rows):\n",
    "        for c in range(display_cols):\n",
    "         \n",
    "            ax_array[r, c].matshow(sample_images[10 * r + c].reshape((example_width, example_height)),\n",
    "                                   cmap=matplotlib.cm.binary)\n",
    "            plt.xticks(np.array([]))\n",
    "            plt.yticks(np.array([]))  \n",
    "            #绘图函数，画100张图片"
   ]
  },
  {
   "cell_type": "code",
   "execution_count": 7,
   "metadata": {},
   "outputs": [
    {
     "data": {
      "image/png": "[encoded data removed]",
      "text/plain": [
       "<matplotlib.figure.Figure at 0x17543df59e8>"
      ]
     },
     "metadata": {},
     "output_type": "display_data"
    }
   ],
   "source": [
    "# Randomly select 100 data points to display\n",
    "#rand_indices = randperm(m);\n",
    "rand_indices = np.random.permutation(range(m));\n",
    "sel = X[rand_indices[:100], :]\n",
    "\n",
    "displayData(sel);"
   ]
  },
  {
   "cell_type": "markdown",
   "metadata": {},
   "source": [
    "# 向量化逻辑回归"
   ]
  },
  {
   "attachments": {
    "Cost%20Function%20with%20Regularization.PNG": {
     "image/png": "[encoded data removed]"
    },
    "gradient%20update%20with%20regularization.PNG": {
     "image/png": "[encoded data removed]"
    }
   },
   "cell_type": "markdown",
   "metadata": {},
   "source": [
    "![Cost%20Function%20with%20Regularization.PNG](attachment:Cost%20Function%20with%20Regularization.PNG)\n",
    "![gradient%20update%20with%20regularization.PNG](attachment:gradient%20update%20with%20regularization.PNG)"
   ]
  },
  {
   "cell_type": "code",
   "execution_count": null,
   "metadata": {
    "collapsed": true
   },
   "outputs": [],
   "source": [
    "def sigmoid(z):\n",
    "    return 1 / (1 + np.exp(-z))"
   ]
  },
  {
   "cell_type": "code",
   "execution_count": 14,
   "metadata": {
    "collapsed": true
   },
   "outputs": [],
   "source": [
    "def lrCostFunction(theta, X, y, plambda):\n",
    "    #LRCOSTFUNCTION Compute cost and gradient for logistic regression with \n",
    "    #regularization\n",
    "    #   J = LRCOSTFUNCTION(theta, X, y, lambda) computes the cost of using\n",
    "    #   theta as the parameter for regularized logistic regression and the\n",
    "    #   gradient of the cost w.r.t. to the parameters. \n",
    "\n",
    "    # Initialize some useful values\n",
    "\n",
    "    m = len(y); # number of training examples\n",
    "    theta = theta.reshape(-1,1)#for usage of fmin_cg, input value theta must be a 1-D array, here convert it to column vector\n",
    "    # You need to return the following variables correctly \n",
    "    J = 0;\n",
    "\n",
    "    # ====================== YOUR CODE HERE ======================\n",
    "    # Instructions: Compute the cost of a particular choice of theta.\n",
    "    #               You should set J to the cost.\n",
    "    #               Compute the partial derivatives and set grad to the partial\n",
    "    #               derivatives of the cost w.r.t. each parameter in theta\n",
    "    #\n",
    "    # Hint: The computation of the cost function and gradients can be\n",
    "    #       efficiently vectorized. For example, consider the computation\n",
    "    #\n",
    "    #           sigmoid(X * theta)\n",
    "    #\n",
    "    #       Each row of the resulting matrix will contain the value of the\n",
    "    #       prediction for that example. You can make use of this to vectorize\n",
    "    #       the cost function and gradient computations. \n",
    "    #\n",
    "    \n",
    "    h = sigmoid(X.dot(theta))\n",
    "    #print(\"shape of theta\")\n",
    "    #print(theta.shape)\n",
    "    theta_1 = theta[1:]\n",
    "    J = -(y.T.dot(np.log(h)) + (1-y).T.dot(np.log(1-h))) / m + 0.5*plambda*(theta_1.T.dot(theta_1))/m\n",
    "    #J = -np.sum(y*(np.log(h)) + (1-y)*(np.log(1-h))) / m + 0.5*plambda*np.sum(theta_1*theta_1)/m \n",
    "    #J[1:] += 0.5*plambda*(theta_1.T.dot(theta_1))/m\n",
    "\n",
    "    return J    "
   ]
  },
  {
   "cell_type": "markdown",
   "metadata": {},
   "source": [
    "实际上作业的instruction里提示用elementwise乘法累加计算，但是实际可以写成矩阵乘法"
   ]
  },
  {
   "cell_type": "code",
   "execution_count": 15,
   "metadata": {
    "collapsed": true
   },
   "outputs": [],
   "source": [
    "def lrGradient(theta, X, y, plambda):\n",
    "    # Hint: When computing the gradient of the regularized cost function, \n",
    "    #       there're many possible vectorized solutions, but one solution\n",
    "    #       looks like:\n",
    "    #           grad = (unregularized gradient for logistic regression)\n",
    "    #           temp = theta; \n",
    "    #           temp(1) = 0;   # because we don't add anything for j = 0  \n",
    "    #           grad = grad + YOUR_CODE_HERE (using the temp variable)\n",
    "    #\n",
    "    \n",
    "    m = len(y); # number of training examples\n",
    "    theta = theta.reshape(-1,1)#for usage of fmin_cg, input value theta must be a 1-D array, here convert it to column vector\n",
    "\n",
    "    h = sigmoid(X.dot(theta))\n",
    "    theta_1 = theta[1:]\n",
    "    \n",
    "    grad = (X.T.dot(h-y))/m\n",
    "    grad[1:] += plambda*theta_1/m\n",
    "    \n",
    "    return grad.ravel() #作为最优化方法的fprime参数输入，是一个一维数组!!!!!!!!!!\n",
    "    #return grad.reshape(1,-1) #作为最优化方法的fprime参数输入，是一个一维数组!!!!!!!!!!"
   ]
  },
  {
   "cell_type": "code",
   "execution_count": 16,
   "metadata": {
    "scrolled": false
   },
   "outputs": [
    {
     "name": "stdout",
     "output_type": "stream",
     "text": [
      "\n",
      "Testing lrCostFunction() with regularization\n",
      "\n",
      "Cost: 2.590001\n",
      "\n",
      "Expected cost: 2.534819\n",
      "\n",
      "Gradients:\n",
      "\n",
      "[-0.1212565  -0.60310931  0.58476504  1.17263939]\n",
      "Expected gradients:\n",
      "\n",
      " 0.146561\n",
      " -0.548558\n",
      " 0.724722\n",
      " 1.398003\n",
      "\n"
     ]
    }
   ],
   "source": [
    "## ============ Part 2a: Vectorize Logistic Regression ============\n",
    "#  In this part of the exercise, you will reuse your logistic regression\n",
    "#  code from the last exercise. You task here is to make sure that your\n",
    "#  regularized logistic regression implementation is vectorized. After\n",
    "#  that, you will implement one-vs-all classification for the handwritten\n",
    "#  digit dataset.\n",
    "#\n",
    "\n",
    "# Test case for lrCostFunction\n",
    "print('\\nTesting lrCostFunction() with regularization');\n",
    "\n",
    "theta_t = np.array([-2, -1, 1, 2]).reshape(-1,1);\n",
    "#X_t = [ones(5,1) reshape(1:15,5,3)/10]; #偏置项叠加五行三列0.1~1.5\n",
    "X_1 = np.array(range(1,16)).reshape(5,3)/10\n",
    "X_t = np.column_stack((np.ones((5,1)),X_1))\n",
    "y_t = np.array([1,0,1,0,1]).reshape(5,1)\n",
    "lambda_t = 3;\n",
    "J = lrCostFunction(theta_t, X_t, y_t, lambda_t);\n",
    "grad =lrGradient(theta_t, X_t, y_t, lambda_t);\n",
    "\n",
    "print('\\nCost: %f\\n'%J);\n",
    "print('Expected cost: 2.534819\\n');\n",
    "print('Gradients:\\n');\n",
    "print(grad);\n",
    "print('Expected gradients:\\n');\n",
    "print(' 0.146561\\n -0.548558\\n 0.724722\\n 1.398003\\n');"
   ]
  },
  {
   "cell_type": "markdown",
   "metadata": {},
   "source": [
    "# One-vs-All 训练"
   ]
  },
  {
   "cell_type": "markdown",
   "metadata": {},
   "source": [
    "经交叉验证新的cost, gradient算法应该没有问题，应该是对于原MATLAB代码中数据理解有偏差"
   ]
  },
  {
   "cell_type": "code",
   "execution_count": 18,
   "metadata": {
    "collapsed": true
   },
   "outputs": [],
   "source": [
    "def oneVsAll(X, y, num_labels, plambda):\n",
    "    \"\"\"\n",
    "    X: 未设置偏置项的原始数据（在本函数中完成插入偏置项）\n",
    "    \"\"\"\n",
    "    #ONEVSALL trains multiple logistic regression classifiers and returns all\n",
    "    #the classifiers in a matrix all_theta, where the i-th row of all_theta \n",
    "    #corresponds to the classifier for label i\n",
    "    #   [all_theta] = ONEVSALL(X, y, num_labels, lambda) trains num_labels\n",
    "    #   logistic regression classifiers and returns each of these classifiers\n",
    "    #   in a matrix all_theta, where the i-th row of all_theta corresponds \n",
    "    #   to the classifier for label i\n",
    "\n",
    "    # Some useful variables\n",
    "    m = X.shape[0]\n",
    "    n = X.shape[1]\n",
    "\n",
    "    # You need to return the following variables correctly \n",
    "    all_theta = np.zeros((num_labels, n + 1));\n",
    "\n",
    "    # Add ones to the X data matrix\n",
    "    X = np.column_stack((np.ones((m,1)), X))\n",
    "\n",
    "    # ====================== YOUR CODE HERE ======================\n",
    "    # Instructions: You should complete the following code to train num_labels\n",
    "    #               logistic regression classifiers with regularization\n",
    "    #               parameter lambda. \n",
    "    #\n",
    "    # Hint: theta(:) will return a column vector.\n",
    "    #\n",
    "    # Hint: You can use y == c to obtain a vector of 1's and 0's that tell you\n",
    "    #       whether the ground truth is true/false for this class.\n",
    "    #\n",
    "    # Note: For this assignment, we recommend using fmincg to optimize the cost\n",
    "    #       function. It is okay to use a for-loop (for c = 1:num_labels) to\n",
    "    #       loop over the different classes.\n",
    "    #\n",
    "    #       fmincg works similarly to fminunc, but is more efficient when we\n",
    "    #       are dealing with large number of parameters.\n",
    "    #\n",
    "    # Example Code for fmincg:\n",
    "    #\n",
    "    #     # Set Initial theta\n",
    "    #     initial_theta = zeros(n + 1, 1);\n",
    "    #     \n",
    "    #     # Set options for fminunc\n",
    "    #     options = optimset('GradObj', 'on', 'MaxIter', 50);\n",
    "    # \n",
    "    #     # Run fmincg to obtain the optimal theta\n",
    "    #     # This function will return theta and the cost \n",
    "    #     [theta] = ...\n",
    "    #         fmincg (@(t)(lrCostFunction(t, X, (y == c), lambda)), ...\n",
    "    #                 initial_theta, options);\n",
    "    #\n",
    "\n",
    "    \n",
    "    for i in range(num_labels):\n",
    "        print(\"the %dth class:\"%i)\n",
    "        #clabel = i if i else num_labels # if i==0, set clabel to 10\n",
    "        initial_theta = np.zeros((n + 1, 1))\n",
    "        #index_c = np.where(y==clabel)\n",
    "        c = num_labels if i==0 else i \n",
    "        #c=i\n",
    "        print(\"label equals %d: %d\"%(c,len(y[y==c])))\n",
    "        y_i = np.array([1 if label == c else 0 for label in y])\n",
    "        y_i = np.reshape(y_i, (m, 1))\n",
    "        #X_c = X[index_c[0]]#not elegant\n",
    "        theta = optimize.fmin_cg(lrCostFunction, initial_theta.ravel(), fprime = lrGradient, args = (X, y_i , plambda))\n",
    "        #fmin = optimize.minimize(fun=lrCostFunction, x0=initial_theta, args=(X, y_i, plambda), method='TNC', jac=lrGradient)\n",
    "        all_theta[i,:] = theta\n",
    "        #all_theta[i,:] = fmin.x\n",
    "        \n",
    "        #print(\"theta:\")\n",
    "        #print(theta)\n",
    "    \n",
    "    print(all_theta)\n",
    "    return all_theta\n",
    "    # ========================================================================="
   ]
  },
  {
   "cell_type": "code",
   "execution_count": 19,
   "metadata": {
    "collapsed": true
   },
   "outputs": [],
   "source": [
    "data = np.loadtxt(r'..\\ex2\\ex2data2.txt',delimiter = ',');\n",
    "X = data[:, :2]; y = data[:, 2:]"
   ]
  },
  {
   "cell_type": "code",
   "execution_count": 20,
   "metadata": {
    "scrolled": true
   },
   "outputs": [
    {
     "name": "stdout",
     "output_type": "stream",
     "text": [
      "the 0th class:\n",
      "label equals 2: 0\n",
      "Optimization terminated successfully.\n",
      "         Current function value: 0.000002\n",
      "         Iterations: 11\n",
      "         Function evaluations: 63\n",
      "         Gradient evaluations: 63\n",
      "the 1th class:\n",
      "label equals 1: 58\n",
      "Optimization terminated successfully.\n",
      "         Current function value: 0.690280\n",
      "         Iterations: 7\n",
      "         Function evaluations: 18\n",
      "         Gradient evaluations: 18\n",
      "[[ -1.30895125e+01  -1.09123628e-04  -1.15122666e-03]\n",
      " [ -1.45547978e-02  -2.99227252e-01  -1.73523014e-02]]\n"
     ]
    }
   ],
   "source": [
    "#使用二分类进行测试\n",
    "plambda = 0.1;\n",
    "all_theta = oneVsAll(X, y, 2, plambda);"
   ]
  },
  {
   "cell_type": "code",
   "execution_count": 21,
   "metadata": {},
   "outputs": [
    {
     "data": {
      "text/plain": [
       "array([[ -1.30895125e+01,  -1.09123628e-04,  -1.15122666e-03],\n",
       "       [ -1.45547978e-02,  -2.99227252e-01,  -1.73523014e-02]])"
      ]
     },
     "execution_count": 21,
     "metadata": {},
     "output_type": "execute_result"
    }
   ],
   "source": [
    "all_theta"
   ]
  },
  {
   "cell_type": "code",
   "execution_count": 22,
   "metadata": {
    "collapsed": true
   },
   "outputs": [],
   "source": [
    "data = scio.loadmat('ex3data1.mat'); # training data stored in arrays X, y\n",
    "X = data['X']; y = data['y']"
   ]
  },
  {
   "cell_type": "code",
   "execution_count": 23,
   "metadata": {},
   "outputs": [
    {
     "name": "stdout",
     "output_type": "stream",
     "text": [
      "\n",
      "Training One-vs-All Logistic Regression...\n",
      "\n",
      "the 0th class:\n",
      "label equals 10: 500\n",
      "Optimization terminated successfully.\n",
      "         Current function value: 0.008581\n",
      "         Iterations: 99\n",
      "         Function evaluations: 384\n",
      "         Gradient evaluations: 384\n",
      "the 1th class:\n",
      "label equals 1: 500\n",
      "Optimization terminated successfully.\n",
      "         Current function value: 0.013117\n",
      "         Iterations: 118\n",
      "         Function evaluations: 460\n",
      "         Gradient evaluations: 460\n",
      "the 2th class:\n",
      "label equals 2: 500\n",
      "Optimization terminated successfully.\n",
      "         Current function value: 0.050811\n",
      "         Iterations: 261\n",
      "         Function evaluations: 786\n",
      "         Gradient evaluations: 786\n",
      "the 3th class:\n",
      "label equals 3: 500\n",
      "Optimization terminated successfully.\n",
      "         Current function value: 0.057607\n",
      "         Iterations: 211\n",
      "         Function evaluations: 630\n",
      "         Gradient evaluations: 630\n",
      "the 4th class:\n",
      "label equals 4: 500\n",
      "Optimization terminated successfully.\n",
      "         Current function value: 0.033067\n",
      "         Iterations: 184\n",
      "         Function evaluations: 607\n",
      "         Gradient evaluations: 607\n",
      "the 5th class:\n",
      "label equals 5: 500\n",
      "Optimization terminated successfully.\n",
      "         Current function value: 0.054467\n",
      "         Iterations: 243\n",
      "         Function evaluations: 719\n",
      "         Gradient evaluations: 719\n",
      "the 6th class:\n",
      "label equals 6: 500\n",
      "Optimization terminated successfully.\n",
      "         Current function value: 0.018262\n",
      "         Iterations: 127\n",
      "         Function evaluations: 468\n",
      "         Gradient evaluations: 468\n",
      "the 7th class:\n",
      "label equals 7: 500\n",
      "Optimization terminated successfully.\n",
      "         Current function value: 0.030656\n",
      "         Iterations: 173\n",
      "         Function evaluations: 586\n",
      "         Gradient evaluations: 586\n",
      "the 8th class:\n",
      "label equals 8: 500\n",
      "Warning: Desired error not necessarily achieved due to precision loss.\n",
      "         Current function value: 0.519344\n",
      "         Iterations: 1\n",
      "         Function evaluations: 14\n",
      "         Gradient evaluations: 2\n",
      "the 9th class:\n",
      "label equals 9: 500\n",
      "Optimization terminated successfully.\n",
      "         Current function value: 0.071207\n",
      "         Iterations: 241\n",
      "         Function evaluations: 686\n",
      "         Gradient evaluations: 686\n",
      "[[ -8.09992136e+00   0.00000000e+00   0.00000000e+00 ...,  -1.57270738e-04\n",
      "    8.22874760e-06   0.00000000e+00]\n",
      " [ -3.06453673e+00   0.00000000e+00   0.00000000e+00 ...,   6.64989884e-03\n",
      "    3.09758759e-08   0.00000000e+00]\n",
      " [ -3.72948949e+00   0.00000000e+00   0.00000000e+00 ...,   2.08693671e-02\n",
      "   -2.33560469e-03   0.00000000e+00]\n",
      " ..., \n",
      " [ -2.28537358e+00   0.00000000e+00   0.00000000e+00 ...,  -5.11726536e-03\n",
      "    6.03377778e-04   0.00000000e+00]\n",
      " [ -2.40941524e-01   0.00000000e+00   0.00000000e+00 ...,  -1.20246700e-06\n",
      "    1.24116545e-07   0.00000000e+00]\n",
      " [ -5.61686402e+00   0.00000000e+00   0.00000000e+00 ...,  -1.02987268e-02\n",
      "    7.85428453e-04   0.00000000e+00]]\n"
     ]
    }
   ],
   "source": [
    "# ============ Part 2b: One-vs-All Training ============\n",
    "print('\\nTraining One-vs-All Logistic Regression...\\n')\n",
    "\n",
    "plambda = 0.1;\n",
    "all_theta = oneVsAll(X, y, num_labels, plambda);"
   ]
  },
  {
   "cell_type": "code",
   "execution_count": 24,
   "metadata": {},
   "outputs": [
    {
     "data": {
      "text/plain": [
       "(10, 401)"
      ]
     },
     "execution_count": 24,
     "metadata": {},
     "output_type": "execute_result"
    }
   ],
   "source": [
    "all_theta.shape"
   ]
  },
  {
   "cell_type": "markdown",
   "metadata": {},
   "source": [
    "# 预测One vs All"
   ]
  },
  {
   "cell_type": "code",
   "execution_count": 27,
   "metadata": {},
   "outputs": [],
   "source": [
    "def predictOneVsAll(all_theta, X):\n",
    "    #PREDICT Predict the label for a trained one-vs-all classifier. The labels \n",
    "    #are in the range 1..K, where K = size(all_theta, 1). \n",
    "    #  p = PREDICTONEVSALL(all_theta, X) will return a vector of predictions\n",
    "    #  for each example in the matrix X. Note that X contains the examples in\n",
    "    #  rows. all_theta is a matrix where the i-th row is a trained logistic\n",
    "    #  regression theta vector for the i-th class. You should set p to a vector\n",
    "    #  of values from 1..K (e.g., p = [1; 3; 1; 2] predicts classes 1, 3, 1, 2\n",
    "    #  for 4 examples) \n",
    "\n",
    "    m = len(X);\n",
    "    num_labels = len(all_theta);\n",
    "\n",
    "    # You need to return the following variables correctly \n",
    "    p = np.zeros((m, 1))\n",
    "    print(\"shape of p: %s\")\n",
    "    print(p.shape)\n",
    "\n",
    "    # Add ones to the X data matrix\n",
    "    #X = [ones(m, 1) X];\n",
    "    X = np.column_stack((np.ones((m,1)),X))\n",
    "\n",
    "    # ====================== YOUR CODE HERE ======================\n",
    "    # Instructions: Complete the following code to make predictions using\n",
    "    #               your learned logistic regression parameters (one-vs-all).\n",
    "    #               You should set p to a vector of predictions (from 1 to\n",
    "    #               num_labels).\n",
    "    #\n",
    "    # Hint: This code can be done all vectorized using the max function.\n",
    "    #       In particular, the max function can also return the index of the \n",
    "    #       max element, for more information see 'help max'. If your examples \n",
    "    #       are in rows, then, you can use max(A, [], 2) to obtain the max \n",
    "    #       for each row.\n",
    "    #       \n",
    "    \n",
    "    #p_c = np.zeros((m, num_labels))\n",
    "    p_c = np.zeros((num_labels, m, 1))\n",
    "    \n",
    "    \n",
    "    '''    for i in range(num_labels):\n",
    "        clabel = i if i else num_labels\n",
    "        p_c[i] = math.sigmoid(X.dot(all_theta[i].reshape(-1,1)))\n",
    "    print (p_c)\n",
    "    p =  np.argmax(p_c, axis = 0)'''\n",
    "    h = sigmoid(all_theta.dot(X.T))\n",
    "    print(h)\n",
    "    p = np.argmax(h,axis=0)\n",
    "    p[p==0] = num_labels\n",
    "    return p\n",
    "    # ========================================================================="
   ]
  },
  {
   "cell_type": "markdown",
   "metadata": {},
   "source": [
    "为什么用np.mean(np.double(pred == y)) * 100)计算准确率，使用循环的情况下准确率90.34%，使用向量方法准确率只有10%？"
   ]
  },
  {
   "cell_type": "code",
   "execution_count": 28,
   "metadata": {
    "collapsed": true
   },
   "outputs": [],
   "source": [
    "data = scio.loadmat('ex3data1.mat'); # training data stored in arrays X, y\n",
    "X = data['X']; y = data['y']"
   ]
  },
  {
   "cell_type": "code",
   "execution_count": 29,
   "metadata": {},
   "outputs": [
    {
     "name": "stdout",
     "output_type": "stream",
     "text": [
      "shape of p: %s\n",
      "(5000, 1)\n",
      "[[  9.99754190e-01   9.99984896e-01   9.99984034e-01 ...,   5.91623708e-11\n",
      "    9.11725719e-09   4.50156373e-03]\n",
      " [  5.97039269e-17   1.43180341e-13   3.31610742e-16 ...,   6.91288324e-03\n",
      "    1.26786196e-12   6.28235047e-19]\n",
      " [  8.02919205e-05   1.48298305e-06   3.48381038e-04 ...,   9.39759741e-04\n",
      "    2.82029686e-10   2.07651285e-07]\n",
      " ..., \n",
      " [  3.28454566e-09   1.43789259e-08   4.77972941e-08 ...,   8.73864642e-06\n",
      "    2.54653417e-04   2.41273835e-01]\n",
      " [  5.94921341e-03   3.73487083e-03   1.57692124e-03 ...,   4.99716979e-02\n",
      "    2.60413244e-03   7.07620000e-03]\n",
      " [  1.54586241e-03   1.19564892e-05   5.23426672e-04 ...,   8.83526389e-01\n",
      "    8.60572820e-01   2.10017060e-01]]\n",
      "\n",
      "Training Set Accuracy: 90.340000\n",
      "\n"
     ]
    }
   ],
   "source": [
    "# ================ Part 3: Predict for One-Vs-All ================\n",
    "\n",
    "pred = predictOneVsAll(all_theta, X);\n",
    "\n",
    "#print('\\nTraining Set Accuracy: %f\\n'%(np.mean(np.double(pred == y)) * 100));\n",
    "compare = np.column_stack((pred,y))\n",
    "print('\\nTraining Set Accuracy: %f\\n'%( np.mean(np.double(compare[:,0]==compare[:,1]))* 100));"
   ]
  },
  {
   "cell_type": "markdown",
   "metadata": {},
   "source": [
    "fmin_cg算法 Training Set Accuracy: 90.340000\n",
    "minimize算法 Training Set Accuracy: 96.460000"
   ]
  },
  {
   "cell_type": "code",
   "execution_count": null,
   "metadata": {
    "collapsed": true
   },
   "outputs": [],
   "source": []
  }
 ],
 "metadata": {
  "kernelspec": {
   "display_name": "Python 3",
   "language": "python",
   "name": "python3"
  },
  "language_info": {
   "codemirror_mode": {
    "name": "ipython",
    "version": 3
   },
   "file_extension": ".py",
   "mimetype": "text/x-python",
   "name": "python",
   "nbconvert_exporter": "python",
   "pygments_lexer": "ipython3",
   "version": "3.6.3"
  }
 },
 "nbformat": 4,
 "nbformat_minor": 2
}
